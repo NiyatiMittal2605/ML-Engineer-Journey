{
 "cells": [
  {
   "cell_type": "code",
   "execution_count": null,
   "id": "e37a881c-6dcb-4142-9073-6a6ba8d1ef25",
   "metadata": {},
   "outputs": [],
   "source": [
    "import pandas as pd\n",
    "\n",
    "# Load the dataset\n",
    "df = pd.read_csv(\"titanic.csv\")\n",
    "\n",
    "# Show first few rows\n",
    "print(df.head())\n",
    "\n",
    "# Info about columns\n",
    "print(df.info())\n",
    "\n",
    "# Descriptive stats\n",
    "print(df.describe())\n",
    "\n",
    "# Count values in the 'Sex' column\n",
    "print(df['Sex'].value_counts())\n"
   ]
  }
 ],
 "metadata": {
  "kernelspec": {
   "display_name": "Python [conda env:base] *",
   "language": "python",
   "name": "conda-base-py"
  },
  "language_info": {
   "codemirror_mode": {
    "name": "ipython",
    "version": 3
   },
   "file_extension": ".py",
   "mimetype": "text/x-python",
   "name": "python",
   "nbconvert_exporter": "python",
   "pygments_lexer": "ipython3",
   "version": "3.13.5"
  }
 },
 "nbformat": 4,
 "nbformat_minor": 5
}
