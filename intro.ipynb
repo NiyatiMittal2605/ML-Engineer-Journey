{
 "cells": [
  {
   "cell_type": "code",
   "execution_count": 1,
   "id": "d1575fd9-efb2-4ef8-9bfd-550a51941789",
   "metadata": {},
   "outputs": [
    {
     "name": "stdout",
     "output_type": "stream",
     "text": [
      "Hello world\n"
     ]
    }
   ],
   "source": [
    "print(\"Hello world\")"
   ]
  },
  {
   "cell_type": "code",
   "execution_count": 1,
   "id": "b3cb7619-bed8-4955-9854-715035ad407e",
   "metadata": {},
   "outputs": [
    {
     "name": "stdout",
     "output_type": "stream",
     "text": [
      "   /|\n",
      "  / |\n",
      " /  |\n",
      "/___|\n"
     ]
    }
   ],
   "source": [
    "print(\"   /|\")\n",
    "print(\"  / |\")\n",
    "print(\" /  |\")\n",
    "print(\"/___|\")"
   ]
  },
  {
   "cell_type": "code",
   "execution_count": 2,
   "id": "a3a4c0b4-e7a7-4cd8-937b-aeb678d3d56a",
   "metadata": {},
   "outputs": [
    {
     "name": "stdout",
     "output_type": "stream",
     "text": [
      "There was once a man named John,\n",
      "he was 35,\n",
      "he really liked the name John,\n",
      "he didnt liked being 35.\n"
     ]
    }
   ],
   "source": [
    "character_name = \"John\"\n",
    "character_age = \"35\"\n",
    "print(\"There was once a man named \" +character_name + \",\")\n",
    "print(\"he was \" +character_age+ \",\")\n",
    "print(\"he really liked the name \" +character_name + \",\")\n",
    "print(\"he didnt liked being \" +character_age + \".\")"
   ]
  },
  {
   "cell_type": "code",
   "execution_count": 6,
   "id": "c971faaa-a922-4aad-b921-c6cb9cdb9d74",
   "metadata": {},
   "outputs": [
    {
     "name": "stdout",
     "output_type": "stream",
     "text": [
      "Giraffe\t\tacademy\n"
     ]
    }
   ],
   "source": [
    "print(\"Giraffe\\t\\tacademy\")"
   ]
  },
  {
   "cell_type": "code",
   "execution_count": 7,
   "id": "511c1cc1-bf34-4bdb-a362-d7b32de8af3a",
   "metadata": {},
   "outputs": [
    {
     "name": "stdout",
     "output_type": "stream",
     "text": [
      "giragge academy\n"
     ]
    }
   ],
   "source": [
    "phrase = \"giraffe academy\"\n",
    "print(phrase.replace(\"f\", \"g\"))"
   ]
  },
  {
   "cell_type": "code",
   "execution_count": 8,
   "id": "8a1de1b3-71b5-43fc-ae93-76730e9b3765",
   "metadata": {},
   "outputs": [
    {
     "name": "stdout",
     "output_type": "stream",
     "text": [
      "3\n"
     ]
    }
   ],
   "source": [
    "my_num = -5\n",
    "print(round(3,2))"
   ]
  },
  {
   "cell_type": "code",
   "execution_count": 9,
   "id": "e46e2b17-9f88-41e1-b3f4-ac944e28572a",
   "metadata": {},
   "outputs": [
    {
     "name": "stdin",
     "output_type": "stream",
     "text": [
      "Enter your name  niyati\n",
      "Enter your age:  20\n"
     ]
    },
    {
     "name": "stdout",
     "output_type": "stream",
     "text": [
      "Hello niyatiyou are 20\n"
     ]
    }
   ],
   "source": [
    "name = input(\"Enter your name \")\n",
    "age = input(\"Enter your age: \")\n",
    "print(\"Hello \" +name+ \"you are \" +age)"
   ]
  },
  {
   "cell_type": "code",
   "execution_count": 11,
   "id": "e43155d7-3df0-4273-afab-e07d02b131cf",
   "metadata": {},
   "outputs": [
    {
     "name": "stdin",
     "output_type": "stream",
     "text": [
      "Enter a number:  8\n",
      "Enter another number:  9\n"
     ]
    },
    {
     "name": "stdout",
     "output_type": "stream",
     "text": [
      "17\n"
     ]
    }
   ],
   "source": [
    "num1 = input(\"Enter a number: \")\n",
    "num2 = input(\"Enter another number: \")\n",
    "result = int(num1) + int(num2)\n",
    "print(result)"
   ]
  },
  {
   "cell_type": "code",
   "execution_count": 14,
   "id": "557bb232-52a4-429a-af8e-d73ed8a4f749",
   "metadata": {},
   "outputs": [
    {
     "name": "stdin",
     "output_type": "stream",
     "text": [
      "Enter a color:  red\n",
      "Enter a plural noun:  microwaves\n",
      "Enter a celebrity:  cardi B\n"
     ]
    },
    {
     "name": "stdout",
     "output_type": "stream",
     "text": [
      "Roses are red\n",
      "microwaves are blue \n",
      "i love cardi B\n"
     ]
    }
   ],
   "source": [
    "color= input(\"Enter a color: \")\n",
    "plural_noun= input(\"Enter a plural noun: \")\n",
    "celebrity= input(\"Enter a celebrity: \")\n",
    "\n",
    "print(\"Roses are \" +color)\n",
    "print(plural_noun+ \" are blue \")\n",
    "print(\"i love \" +celebrity)"
   ]
  },
  {
   "cell_type": "code",
   "execution_count": 15,
   "id": "81118526-c291-496a-814c-1f5e00e1926f",
   "metadata": {},
   "outputs": [
    {
     "name": "stdout",
     "output_type": "stream",
     "text": [
      "['niyati', 'harshit', 'prisha', 'divyam', 'nishika', 'aditi']\n"
     ]
    }
   ],
   "source": [
    "lucky_numbers = [32,36,21,27,23,26]\n",
    "friends= [\"niyati\", \"harshit\", \"prisha\", \"divyam\", \"nishika\", \"aditi\"]\n",
    "friends2= friends.copy()\n",
    "print(friends2)"
   ]
  },
  {
   "cell_type": "code",
   "execution_count": 18,
   "id": "78f4a083-4705-4bae-9b48-1f66e30f5d77",
   "metadata": {},
   "outputs": [
    {
     "name": "stdout",
     "output_type": "stream",
     "text": [
      "hello niyati,you are 20\n",
      "hello harshit,you are 19\n"
     ]
    }
   ],
   "source": [
    "## this is a function\n",
    "def sayhi(name, age):\n",
    "    print(\"hello \" +name+ \",you are \" +age)\n",
    "\n",
    "sayhi(\"niyati\", \"20\")\n",
    "sayhi(\"harshit\", \"19\")"
   ]
  },
  {
   "cell_type": "code",
   "execution_count": 19,
   "id": "43fa1837-09d8-4143-af10-1607c99a7b03",
   "metadata": {},
   "outputs": [
    {
     "name": "stdout",
     "output_type": "stream",
     "text": [
      "27\n"
     ]
    }
   ],
   "source": [
    "## return statement\n",
    "def cube(num):\n",
    "    return num*num*num\n",
    "\n",
    "result = cube(3)\n",
    "print(result)\n"
   ]
  },
  {
   "cell_type": "code",
   "execution_count": 20,
   "id": "72ebcb0e-afd9-42ab-a72a-579c3f3c3588",
   "metadata": {},
   "outputs": [
    {
     "name": "stdout",
     "output_type": "stream",
     "text": [
      "You are a tall male\n"
     ]
    }
   ],
   "source": [
    "## if statement\n",
    "is_male = True\n",
    "is_taall = False\n",
    "\n",
    "if is_male or is_tall:\n",
    "    print(\"You are a tall male\")\n",
    "elif is_male and not(is_tall):\n",
    "    print(\"You are short male\")\n",
    "elif is_tall and not(is_male):\n",
    "    print(\"You are tall but not a male\")\n",
    "else:\n",
    "    print(\"You are either a male nor tall or both\")"
   ]
  },
  {
   "cell_type": "code",
   "execution_count": 21,
   "id": "291bb45e-3eed-4413-bbf9-2715b57adb07",
   "metadata": {},
   "outputs": [
    {
     "name": "stdout",
     "output_type": "stream",
     "text": [
      "40\n"
     ]
    }
   ],
   "source": [
    "## if statement and comparisons\n",
    "def max_num(num1, num2, num3):\n",
    "    if num1 >= num2 and num1 >= num3:\n",
    "        return num1\n",
    "    elif num2 >= num1 and num2 >= num3:\n",
    "        return num2\n",
    "    else:\n",
    "        return num3\n",
    "\n",
    "print(max_num(3,40,5))"
   ]
  },
  {
   "cell_type": "code",
   "execution_count": 27,
   "id": "74edca37-d481-4ef4-8020-b5cc26276e2b",
   "metadata": {},
   "outputs": [
    {
     "name": "stdin",
     "output_type": "stream",
     "text": [
      "Enter first number:  9\n",
      "Enter operator:  /\n",
      "Enter second number:  3\n"
     ]
    },
    {
     "name": "stdout",
     "output_type": "stream",
     "text": [
      "3.0\n"
     ]
    }
   ],
   "source": [
    "## building a better calculator\n",
    "num1 = float(input(\"Enter first number: \"))\n",
    "op = input(\"Enter operator: \")\n",
    "num2 = float(input(\"Enter second number: \"))\n",
    "\n",
    "if op == '+':\n",
    "    print(num1 + num2)\n",
    "elif op == '-':\n",
    "    print(num1 - num2)\n",
    "elif op == '*':\n",
    "    print(num1 * num2)\n",
    "elif op == '/':\n",
    "    print(num1 / num2)\n",
    "else:\n",
    "    print(\"Invalid Operator\")\n",
    "    "
   ]
  },
  {
   "cell_type": "code",
   "execution_count": 29,
   "id": "97085f88-9413-419b-aaee-914e43013e74",
   "metadata": {},
   "outputs": [
    {
     "name": "stdout",
     "output_type": "stream",
     "text": [
      "April\n"
     ]
    }
   ],
   "source": [
    "## dictionaries in python\n",
    "monthConversions = {\n",
    "    \"JAN\" : \"January\",\n",
    "    \"FEB\" : \"February\",\n",
    "    \"MAR\" : \"March\",\n",
    "    \"APR\" : \"April\", \n",
    "    \"MAY\" : \"May\",\n",
    "    \"6\" : \"June\",\n",
    "    \"7\" : \"July\",\n",
    "    \"8\" : \"August\",\n",
    "    \"9\" : \"September\",\n",
    "    \"10\" : \"October\",\n",
    "    \"11\" : \"November\",\n",
    "    \"12\" : \"December\"\n",
    "}\n",
    "\n",
    "print(monthConversions.get(\"APR\"))"
   ]
  },
  {
   "cell_type": "code",
   "execution_count": 30,
   "id": "7021ca6a-df53-46d1-9d6c-cdb9020d6b64",
   "metadata": {},
   "outputs": [
    {
     "name": "stdout",
     "output_type": "stream",
     "text": [
      "1\n",
      "2\n",
      "3\n",
      "4\n",
      "5\n",
      "6\n",
      "7\n",
      "8\n",
      "9\n",
      "Done with loop\n"
     ]
    }
   ],
   "source": [
    "## while loop\n",
    "i = 1\n",
    "while i < 10:\n",
    "    print(i)\n",
    "    i += 1\n",
    "\n",
    "print(\"Done with loop\")"
   ]
  },
  {
   "cell_type": "code",
   "execution_count": 32,
   "id": "0349a456-e896-4df0-a7f3-7926c70e85d0",
   "metadata": {},
   "outputs": [
    {
     "name": "stdin",
     "output_type": "stream",
     "text": [
      "Enter guess:  hello\n",
      "Enter guess:  hi\n",
      "Enter guess:  giraffe\n"
     ]
    },
    {
     "name": "stdout",
     "output_type": "stream",
     "text": [
      "You win!\n"
     ]
    }
   ],
   "source": [
    "## Building a guessing game\n",
    "secret_word = \"giraffe\"\n",
    "guess = \" \"\n",
    "guess_count = 0\n",
    "guess_limit = 3\n",
    "out_of_guesses= False\n",
    "\n",
    "while guess != secret_word and not(out_of_guesses):\n",
    "    if guess_count < guess_limit:\n",
    "        guess = input(\"Enter guess: \")\n",
    "        guess_count += 1\n",
    "    else:\n",
    "        out_of_guesses= True\n",
    "\n",
    "if out_of_guesses:\n",
    "    print(\"Out of guesses, you lose!\")\n",
    "else:\n",
    "    print(\"You win!\")"
   ]
  },
  {
   "cell_type": "code",
   "execution_count": 35,
   "id": "6358438e-676e-44e9-811f-a1f49412ac8e",
   "metadata": {},
   "outputs": [
    {
     "name": "stdout",
     "output_type": "stream",
     "text": [
      "jim\n",
      "kevin\n",
      "harshit\n",
      "N\n",
      "i\n",
      "y\n",
      "a\n",
      "t\n",
      "i\n",
      " \n",
      "M\n",
      "i\n",
      "t\n",
      "t\n",
      "a\n",
      "l\n"
     ]
    }
   ],
   "source": [
    "## for loop\n",
    "friends = [\"jim\", \"kevin\", \"harshit\"]\n",
    "for index in range(len(friends)):\n",
    "    print(friends[index])\n",
    "for letter in \"Niyati Mittal\":\n",
    "    print(letter)"
   ]
  },
  {
   "cell_type": "code",
   "execution_count": 36,
   "id": "a0357ab5-fed1-4fd8-92be-8f347eb9befa",
   "metadata": {},
   "outputs": [
    {
     "name": "stdout",
     "output_type": "stream",
     "text": [
      "9\n"
     ]
    }
   ],
   "source": [
    "## exponent function\n",
    "def raise_to_power(base_num, pow_num):\n",
    "    result = 1\n",
    "    for index in range(pow_num):\n",
    "        result = result * base_num\n",
    "    return result \n",
    "\n",
    "print(raise_to_power(3,2))"
   ]
  },
  {
   "cell_type": "code",
   "execution_count": 39,
   "id": "6aba0b47-a066-442e-a80a-de62d5d75d9a",
   "metadata": {},
   "outputs": [
    {
     "name": "stdout",
     "output_type": "stream",
     "text": [
      "[1, 2, 3]\n",
      "[1, 2, 3]\n",
      "[1, 2, 3]\n",
      "[4, 5, 6]\n",
      "[4, 5, 6]\n",
      "[4, 5, 6]\n",
      "[7, 8, 9]\n",
      "[7, 8, 9]\n",
      "[7, 8, 9]\n",
      "[0]\n"
     ]
    }
   ],
   "source": [
    "## lists and nested loops\n",
    "number_grid= [\n",
    "    [1,2,3],\n",
    "    [4,5,6],\n",
    "    [7,8,9],\n",
    "    [0]\n",
    "]\n",
    "\n",
    "for row in number_grid:\n",
    "    for col in row:\n",
    "        print(row)"
   ]
  },
  {
   "cell_type": "code",
   "execution_count": 46,
   "id": "7e26c20b-c9f6-43c6-ace6-b3b33ec9c039",
   "metadata": {},
   "outputs": [
    {
     "name": "stdin",
     "output_type": "stream",
     "text": [
      "Enter a phrase:  hello , good morning!\n"
     ]
    },
    {
     "name": "stdout",
     "output_type": "stream",
     "text": [
      "hgllg , gggd mgrngng!\n"
     ]
    }
   ],
   "source": [
    "### build a translator\n",
    "def translate(phrase):\n",
    "    translation = \"\"\n",
    "    for letter in phrase:\n",
    "        if letter.lower() in \"aeiou\":\n",
    "            if letter.isupper():\n",
    "                translation = translation + \"G\"\n",
    "            else:\n",
    "                translation = translation + \"g\"\n",
    "        else:\n",
    "            translation = translation + letter\n",
    "    return translation\n",
    "\n",
    "print(translate(input(\"Enter a phrase: \")))\n"
   ]
  },
  {
   "cell_type": "code",
   "execution_count": 48,
   "id": "398b64e9-2e65-49ee-addf-c81581c1b45b",
   "metadata": {},
   "outputs": [
    {
     "name": "stdout",
     "output_type": "stream",
     "text": [
      "comments are fun\n"
     ]
    }
   ],
   "source": [
    "### comments in python\n",
    "## this prints out a string\n",
    "print(\"comments are fun\")"
   ]
  },
  {
   "cell_type": "code",
   "execution_count": 50,
   "id": "0217e0b0-2931-4640-b6f9-71f55952c9e4",
   "metadata": {},
   "outputs": [
    {
     "name": "stdin",
     "output_type": "stream",
     "text": [
      "Enter a number:  8\n"
     ]
    },
    {
     "name": "stdout",
     "output_type": "stream",
     "text": [
      "8\n"
     ]
    }
   ],
   "source": [
    "## try- except(catching errors)\n",
    "try:\n",
    "    number = int(input(\"Enter a number: \"))\n",
    "    print(number)\n",
    "except ZeroDivisionError:\n",
    "    print(\"Divided by zero\")\n",
    "except ValueError:\n",
    "    print(\"Invalid Input\")"
   ]
  },
  {
   "cell_type": "code",
   "execution_count": 55,
   "id": "36ec88db-1475-4e0f-8ef0-d3aef57ea6cb",
   "metadata": {},
   "outputs": [
    {
     "name": "stdout",
     "output_type": "stream",
     "text": [
      "False\n"
     ]
    }
   ],
   "source": [
    "### reading from a file\n",
    "employee_file= open(\"employees.txt\", \"r\")\n",
    "##print(employee_file.read())\n",
    "##print(employee_file.readline())\n",
    "print(employee_file.readable())\n",
    "employee_file.close()"
   ]
  },
  {
   "cell_type": "code",
   "execution_count": 58,
   "id": "a74eb542-f81a-4f4f-9826-24b382a1326d",
   "metadata": {},
   "outputs": [],
   "source": [
    "### writing and appending a file\n",
    "employee_file= open(\"employees.txt\", \"w\")\n",
    "employee_file.write(\"Tony - Human Resources\")\n",
    "employee_file.write(\"\\nkelly- Customer Service\")\n",
    "employee_file.close()\n"
   ]
  },
  {
   "cell_type": "code",
   "execution_count": 63,
   "id": "fc015e80-2c86-4c37-b7d7-59357a2a6d55",
   "metadata": {},
   "outputs": [
    {
     "name": "stdout",
     "output_type": "stream",
     "text": [
      "10\n"
     ]
    }
   ],
   "source": [
    "## modeules and Pip \n",
    "import useful_tools\n",
    "\n",
    "print(useful_tools.roll_dice(10))"
   ]
  },
  {
   "cell_type": "code",
   "execution_count": 67,
   "id": "45f42a1c-e9a9-49b0-a7a4-58ace492203d",
   "metadata": {},
   "outputs": [
    {
     "name": "stdout",
     "output_type": "stream",
     "text": [
      "niyati\n",
      "8.5\n"
     ]
    }
   ],
   "source": [
    "### classes and objects\n",
    "from Student_class import Student\n",
    "\n",
    "Student1= Student(\"niyati\", \"CS\", 9.8, False)\n",
    "Student2 = Student(\"Harshit\", \"Business\", 8.5, True)\n",
    "\n",
    "print(Student1.name)\n",
    "print(Student2.gpa)"
   ]
  },
  {
   "cell_type": "code",
   "execution_count": 74,
   "id": "41556dc3-e604-4dee-bb1e-2801a7448432",
   "metadata": {},
   "outputs": [
    {
     "name": "stdin",
     "output_type": "stream",
     "text": [
      "What color are apples?\n",
      "(a) Red/Green\n",
      "(b) Purple\n",
      "(c) Orange\n",
      "\n",
      " a\n",
      "What color are Bananas?\n",
      "(a) Teal\n",
      "(b) Magenta\n",
      "(c) Yellow\n",
      "\n",
      " c\n",
      "What color are Strawberries?\n",
      "(a) Yellow\n",
      "(b) Red\n",
      "(c) Blue\n",
      "\n",
      " a\n"
     ]
    },
    {
     "name": "stdout",
     "output_type": "stream",
     "text": [
      "You got 2/3 correct\n"
     ]
    }
   ],
   "source": [
    "### building a multiple choice quiz\n",
    "from Questions import Question\n",
    "\n",
    "question_prompts= [\n",
    "    \"What color are apples?\\n(a) Red/Green\\n(b) Purple\\n(c) Orange\\n\\n\",\n",
    "    \"What color are Bananas?\\n(a) Teal\\n(b) Magenta\\n(c) Yellow\\n\\n\",\n",
    "    \"What color are Strawberries?\\n(a) Yellow\\n(b) Red\\n(c) Blue\\n\\n\",\n",
    "]\n",
    "\n",
    "questions = [\n",
    "    Question(question_prompts[0], \"a\"),\n",
    "    Question(question_prompts[1], \"c\"),\n",
    "    Question(question_prompts[2], \"b\"),\n",
    "]\n",
    "\n",
    "def run_test(questions):\n",
    "    score = 0\n",
    "    for question in questions:\n",
    "        answer = input(question.prompt)\n",
    "        if answer == question.answer:\n",
    "            score += 1\n",
    "    print(\"You got \" +str(score) + \"/\" + str(len(questions)) + \" correct\")\n",
    "\n",
    "run_test(questions)"
   ]
  },
  {
   "cell_type": "code",
   "execution_count": 86,
   "id": "9977ead6-4667-40d9-a7de-b393fa17b834",
   "metadata": {},
   "outputs": [
    {
     "name": "stdout",
     "output_type": "stream",
     "text": [
      "True\n"
     ]
    }
   ],
   "source": [
    "## object function\n",
    "from Student import Student\n",
    "\n",
    "Student1 = Student(\"Oscar\", \"Accounting\", 3.1, False)\n",
    "Student2 = Student(\"Phyllis\", \"Business\", 3.8, False)\n",
    "\n",
    "print(Student2.on_honor_roll())"
   ]
  },
  {
   "cell_type": "code",
   "execution_count": 90,
   "id": "51c8c94c-06a3-4f21-a181-8953289a4b63",
   "metadata": {},
   "outputs": [
    {
     "name": "stdout",
     "output_type": "stream",
     "text": [
      "The chef makes bbq ribs\n",
      "The chef makes orange chicken\n"
     ]
    }
   ],
   "source": [
    "## inheritance\n",
    "from Chef import Chef\n",
    "from ChineseChef import ChineseChef\n",
    "\n",
    "myChef = Chef()\n",
    "myChef.make_special_dish()\n",
    "\n",
    "myChineseChef = ChineseChef()\n",
    "myChineseChef.make_special_dish()"
   ]
  },
  {
   "cell_type": "code",
   "execution_count": 91,
   "id": "a4971cdf-6922-4ba6-ab88-0521d4665cf5",
   "metadata": {},
   "outputs": [
    {
     "name": "stdout",
     "output_type": "stream",
     "text": [
      "C:\\Users\\niyat\n"
     ]
    }
   ],
   "source": [
    "import os\n",
    "print(os.getcwd())"
   ]
  },
  {
   "cell_type": "code",
   "execution_count": null,
   "id": "f6b7644a-6299-4f52-b851-9dc53867e7d2",
   "metadata": {},
   "outputs": [],
   "source": []
  }
 ],
 "metadata": {
  "kernelspec": {
   "display_name": "Python [conda env:base] *",
   "language": "python",
   "name": "conda-base-py"
  },
  "language_info": {
   "codemirror_mode": {
    "name": "ipython",
    "version": 3
   },
   "file_extension": ".py",
   "mimetype": "text/x-python",
   "name": "python",
   "nbconvert_exporter": "python",
   "pygments_lexer": "ipython3",
   "version": "3.13.5"
  }
 },
 "nbformat": 4,
 "nbformat_minor": 5
}
